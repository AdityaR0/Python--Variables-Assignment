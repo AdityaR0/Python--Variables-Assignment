{
 "cells": [
  {
   "cell_type": "code",
   "execution_count": null,
   "id": "f94840c0-e348-42fb-8d21-48133febdb2f",
   "metadata": {},
   "outputs": [],
   "source": [
    "Python--Variables Assignment Questions:\n",
    "    \n",
    "Q1. Write all the conventions being followed while declaring a variable.\n",
    "\n",
    "Ans)\n",
    "A variable name must start with a letter or the underscore character\n",
    "A variable name cannot start with a number\n",
    "A variable name can only contain alpha-numeric characters and underscores (A-z, 0-9, and _ )\n",
    "Variable names are case-sensitive (age, Age and AGE are three different variables)\n",
    "A variable name cannot be any of the Python keywords.\n",
    "myvar = \"ram\"\n",
    "my_var = \"ram\"\n",
    "_my_var = \"ram\"\n",
    "myVar = \"ram\"\n",
    "MYVAR = \"ram\"\n",
    "myvar2 = \"ram\"\n",
    "\n",
    "Q2. What will happen if we declare a restricted keyword as a variable?\n",
    "\n",
    "Ans) \n",
    "Keywords are case sensitive in python. You can't use a keyword as variable name, function name or any other identifier name.\n",
    "The code won't compile if we create a class, method, or variable with any python keyword as the identifier.\n",
    "\n",
    "Q3. Can we actually declare a string as a variable name?\n",
    "\n",
    "Ans) \n",
    "We dynamically create a variable name (variable_name) as a string, and then we store and retrieve its value using the dictionary. \n",
    "This approach allows us to mimic variable names with string keys.A string is a collection of characters stored as a single value. \n",
    "Unlike other technologies there is no need to explicitly declare strings in Python (for that matter any variable),\n",
    "you just need to assign strings to a literal this makes Python strings easy to use.\n",
    "\n",
    "Q4. Is it possible for us to declare “_” as a variable? If so, then write an example of it.\n",
    "\n",
    "Ans) \n",
    "YES\n",
    "_=\"ram\"\n",
    "print(_)\n",
    "In Python, the underscore (_) is a versatile symbol.\n",
    "It is commonly used as a throwaway variable, a placeholder in loops, and for internal naming conventions. \n",
    "A variable name must start with a letter or the underscore character.\n",
    "A variable name cannot start with a number. A variable name can only contain alpha-numeric characters and underscores \n",
    "(A-z, 0-9, and _ ) Variable names are case-sensitive (age, Age and AGE are three different variables)\n",
    "\n",
    "Q5. Using an example, explain how the variables in python are dynamic in nature.    \n",
    "    \n",
    "Ans)    \n",
    "Dynamic typing means that the type of the variable is determined only during runtime.\n",
    "Due to strong typing, types need to be compatible with respect to the operand when performing operations. \n",
    "These variables are known as dynamic variables because their values can change dynamically during the execution of a program. \n",
    "This is in contrast to static variables, whose values are fixed and cannot be changed. \n",
    "For example__Python allows one to add an integer and a floating point number, but adding an integer to a string produces error.\n",
    "For example, the following code creates a variable x and assigns it the value 5: x = 5.\n",
    " "
   ]
  }
 ],
 "metadata": {
  "kernelspec": {
   "display_name": "Python 3 (ipykernel)",
   "language": "python",
   "name": "python3"
  },
  "language_info": {
   "codemirror_mode": {
    "name": "ipython",
    "version": 3
   },
   "file_extension": ".py",
   "mimetype": "text/x-python",
   "name": "python",
   "nbconvert_exporter": "python",
   "pygments_lexer": "ipython3",
   "version": "3.10.8"
  }
 },
 "nbformat": 4,
 "nbformat_minor": 5
}
